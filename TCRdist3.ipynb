{
 "cells": [
  {
   "cell_type": "code",
   "execution_count": 1,
   "id": "f0f184f0",
   "metadata": {},
   "outputs": [],
   "source": [
    "# TCR Distances\n",
    "# https://tcrdist3.readthedocs.io/en/latest/tcrdistances.html#tcrdistances"
   ]
  },
  {
   "cell_type": "code",
   "execution_count": 2,
   "id": "9cfd86d5",
   "metadata": {},
   "outputs": [],
   "source": [
    "# All imports are provided here, and are repeated step-wise below, for clarity, and for module cut-and-paste. \n",
    "# This example performs paired alpha-beta analysis, but code blocks can be used for single chain analysis as well.\n",
    "\n",
    "import pandas as pd\n",
    "from tcrdist.repertoire import TCRrep\n",
    "from tcrdist.rep_diff import hcluster_diff, member_summ\n",
    "from tcrsampler.sampler import TCRsampler\n",
    "from tcrdist.adpt_funcs import get_centroid_seq\n",
    "from tcrdist.summarize import _select\n",
    "from palmotif import compute_pal_motif, svg_logo\n",
    "from hierdiff import plot_hclust_props"
   ]
  },
  {
   "cell_type": "code",
   "execution_count": 3,
   "id": "2e838c71",
   "metadata": {},
   "outputs": [
    {
     "data": {
      "text/plain": [
       "array([[ 0, 39, 23, ..., 40, 32, 25],\n",
       "       [39,  0, 35, ..., 31, 36, 31],\n",
       "       [23, 35,  0, ..., 39, 21, 28],\n",
       "       ...,\n",
       "       [40, 31, 39, ...,  0, 39, 39],\n",
       "       [32, 36, 21, ..., 39,  0, 27],\n",
       "       [25, 31, 28, ..., 39, 27,  0]], dtype=int16)"
      ]
     },
     "execution_count": 3,
     "metadata": {},
     "output_type": "execute_result"
    }
   ],
   "source": [
    "#df = pd.read_csv(\"your_path/your_TCR_table.csv\")\n",
    "df = pd.read_csv(\"../../inserm_giraud/Finlande/data_database/McPAS_with_your_epitopes_for_TCRdist3.csv\")\n",
    "#df = pd.read_csv(\"../../inserm_giraud/Finlande/data_database/vdjDB_with_your_epitopes_for_TCRdist3_part1.csv\")\n",
    "\n",
    "tr = TCRrep(cell_df = df, \n",
    "            organism = 'human', \n",
    "            chains = ['alpha', 'beta'], \n",
    "            db_file = 'alphabeta_gammadelta_db.tsv')\n",
    "\n",
    "#tr.pw_alpha\n",
    "#tr.pw_beta\n",
    "tr.pw_cdr3_a_aa # if you want to see the result for the cdr3 alpha dist matrix\n",
    "#tr.pw_cdr3_b_aa"
   ]
  },
  {
   "cell_type": "code",
   "execution_count": 4,
   "id": "d4d58fce",
   "metadata": {},
   "outputs": [],
   "source": [
    "import csv\n",
    "with open(\"../../inserm_giraud/Finlande/results/McPAS_alpha.csv\", \"w\") as f:\n",
    "#with open(\"../../inserm_giraud/Finlande/results/vdjDB_alpha_part1.csv\", \"w\") as f:\n",
    "    w = csv.writer(f, delimiter=\";\", lineterminator=\"\\n\")\n",
    "    w.writerows(zip(*tr.pw_alpha)) # for alpha dist matrix"
   ]
  },
  {
   "cell_type": "code",
   "execution_count": 5,
   "id": "d22661b8",
   "metadata": {},
   "outputs": [],
   "source": [
    "import csv\n",
    "with open(\"../../inserm_giraud/Finlande/results/McPAS_beta.csv\", \"w\") as f:\n",
    "#with open(\"../../inserm_giraud/Finlande/results/vdjDB_beta_part1.csv\", \"w\") as f:\n",
    "    w = csv.writer(f, delimiter=\";\", lineterminator=\"\\n\")\n",
    "    w.writerows(zip(*tr.pw_beta)) # for beta dist matrix"
   ]
  },
  {
   "cell_type": "code",
   "execution_count": 6,
   "id": "0dfec9ff",
   "metadata": {},
   "outputs": [],
   "source": [
    "import csv\n",
    "with open(\"../../inserm_giraud/Finlande/results/McPAS_alpha_cdr3_aa.csv\", \"w\") as f:\n",
    "#with open(\"../../inserm_giraud/Finlande/results/vdjDB_alpha_cdr3_aa_part1.csv\", \"w\") as f:\n",
    "    w = csv.writer(f, delimiter=\";\", lineterminator=\"\\n\")\n",
    "    w.writerows(zip(*tr.pw_cdr3_a_aa)) # for alpha cdr3 AA (amino acid) dist matrix"
   ]
  },
  {
   "cell_type": "code",
   "execution_count": 7,
   "id": "d172292f",
   "metadata": {},
   "outputs": [],
   "source": [
    "import csv\n",
    "with open(\"../../inserm_giraud/Finlande/results/McPAS_beta_cdr3_aa.csv\", \"w\") as f:\n",
    "#with open(\"../../inserm_giraud/Finlande/results/vdjDB_beta_cdr3_aa_part1.csv\", \"w\") as f:\n",
    "    w = csv.writer(f, delimiter=\";\", lineterminator=\"\\n\")\n",
    "    w.writerows(zip(*tr.pw_cdr3_b_aa)) # for beta cdr3 AA dist matrix"
   ]
  }
 ],
 "metadata": {
  "kernelspec": {
   "display_name": "Python 3",
   "language": "python",
   "name": "python3"
  },
  "language_info": {
   "codemirror_mode": {
    "name": "ipython",
    "version": 3
   },
   "file_extension": ".py",
   "mimetype": "text/x-python",
   "name": "python",
   "nbconvert_exporter": "python",
   "pygments_lexer": "ipython3",
   "version": "3.8.5"
  }
 },
 "nbformat": 4,
 "nbformat_minor": 5
}
